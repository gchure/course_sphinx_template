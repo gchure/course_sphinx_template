{
 "cells": [
  {
   "cell_type": "markdown",
   "metadata": {},
   "source": [
    "# Lesson 1: Example Notebook Without Code"
   ]
  },
  {
   "cell_type": "markdown",
   "metadata": {},
   "source": [
    "This is an example notebook that has only markdown text. It is written as a Jupyter notebook, but with no real code cells. This is useful if you only need to put together prose without plots or \n",
    "computations. You can still put in images using the [normal markdown syntax](https://www.markdownguide.org/basic-syntax/), but they must reference images within the `data` \n",
    "subdirectory. For example, the following markdown\n",
    "\n",
    "```\n",
    "![Alt text for image -- be accesible!](data/example_figure_1.png)\n",
    "```\n",
    "shows this image:\n",
    "\n",
    "\n",
    "![Alt text for image -- be accessible!](data/example_figure_1.png)\n",
    "\n",
    "\n",
    "You can use inline mathematics typeset in LaTeX using single dollar signs `$ f(x) $` \n",
    "which yields: $f(x)$. Wrapping it in double dollar signs `$$` yields a linebreak\n",
    "with an equation\n",
    "\n",
    "$$\n",
    "L = \\lim \\limits_{h\\rightarrow 0} \\frac{f(a + h) - f(a)}{h}.\n",
    "$$\n",
    "\n",
    "To have an equation numbered, you must include a `\\tag{NUMBER}` along with the equation. \n",
    "For example, the following markdown\n",
    "```\n",
    "$$ \n",
    "\\int\\limits_{-\\inf}^{+\\inf} e^{-a(x + b)^2} dx = \\sqrt{\\frac{\\pi}{a}}. \\tag{1}\n",
    "$$\n",
    "```\n",
    "produces\n",
    "$$\n",
    "\\int\\limits_{-\\inf}^{+\\inf} e^{-a(x + b)^2} dx = \\sqrt{\\frac{\\pi}{a}}. \\tag{1}\n",
    "\n",
    "$$\n",
    "\n",
    "## Add licensing!\n",
    "Always add licensing information to your notebooks. Typically, you can include a \n",
    "footer [or a header (or both!)] that has the links to the appropriate licensing. \n",
    "For example, consider adding the following:\n",
    "```\n",
    "---\n",
    "\n",
    "All creative work is licensed under a Creative Commons [CC-BY 4.0](https://creativecommons.org/licenses/by/4.0/) license. All \n",
    "code herein is released under a standard [MIT license](https://choosealicense.com/licenses/mit/).\n",
    "\n",
    "```"
   ]
  }
 ],
 "metadata": {
  "language_info": {
   "name": "python"
  }
 },
 "nbformat": 4,
 "nbformat_minor": 2
}
